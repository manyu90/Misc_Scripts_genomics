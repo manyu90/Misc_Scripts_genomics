{
 "cells": [
  {
   "cell_type": "code",
   "execution_count": 1,
   "metadata": {
    "collapsed": true
   },
   "outputs": [],
   "source": [
    "import glob,os,sys,shutil\n"
   ]
  },
  {
   "cell_type": "code",
   "execution_count": 2,
   "metadata": {
    "collapsed": true
   },
   "outputs": [],
   "source": [
    "path_to_DNASE_1='/oak/stanford/groups/akundaje/manyu/DNAseSeq_data/2018-08-11-Arabidopsis-DNAse/01-Arabidopsis-DNAse-GSE53322/'\n",
    "path_to_DNASE_2='/oak/stanford/groups/akundaje/manyu/DNAseSeq_data/2018-08-11-Arabidopsis-DNAse/03-Arabidopsis-DNAse-GSE53324/'\n"
   ]
  },
  {
   "cell_type": "code",
   "execution_count": 12,
   "metadata": {},
   "outputs": [
    {
     "name": "stdout",
     "output_type": "stream",
     "text": [
      "/oak/stanford/groups/akundaje/manyu/DNAseSeq_data/2018-08-11-Arabidopsis-DNAse/01-Arabidopsis-DNAse-GSE53322/DS22138_PE_DNaseI-seq_7_day_old_seedling_Dark-GSM1289357\n",
      "/oak/stanford/groups/akundaje/manyu/DNAseSeq_data/2018-08-11-Arabidopsis-DNAse/01-Arabidopsis-DNAse-GSE53322/DS22140_SE_DNaseI-seq_7_day_old_seedling_Dark_30min_light-GSM1289352\n",
      "/oak/stanford/groups/akundaje/manyu/DNAseSeq_data/2018-08-11-Arabidopsis-DNAse/01-Arabidopsis-DNAse-GSE53322/DS20423_SE_DNaseI-seq_7_day_old_seedling_Heat_Shock-GSM1289360\n",
      "/oak/stanford/groups/akundaje/manyu/DNAseSeq_data/2018-08-11-Arabidopsis-DNAse/01-Arabidopsis-DNAse-GSE53322/DS20968_SE_DNaseI-seq_7_day_old_seedling_Dark_24hr-GSM1289350\n",
      "/oak/stanford/groups/akundaje/manyu/DNAseSeq_data/2018-08-11-Arabidopsis-DNAse/01-Arabidopsis-DNAse-GSE53322/DS21094_SE_DNaseI-seq_7_day_old_seedling_Control-GSM1289358\n",
      "/oak/stanford/groups/akundaje/manyu/DNAseSeq_data/2018-08-11-Arabidopsis-DNAse/01-Arabidopsis-DNAse-GSE53322/DS20412_SE_DNaseI-seq_7_day_old_seedling_Dark_3hr_light-GSM1289354\n",
      "/oak/stanford/groups/akundaje/manyu/DNAseSeq_data/2018-08-11-Arabidopsis-DNAse/01-Arabidopsis-DNAse-GSE53322/DS22138_SE_DNaseI-seq_7_day_old_seedling_Dark-GSM1289356\n",
      "/oak/stanford/groups/akundaje/manyu/DNAseSeq_data/2018-08-11-Arabidopsis-DNAse/01-Arabidopsis-DNAse-GSE53322/DS20412_PE_DNaseI-seq_7_day_old_seedling_Dark_3hr_light-GSM1289355\n",
      "/oak/stanford/groups/akundaje/manyu/DNAseSeq_data/2018-08-11-Arabidopsis-DNAse/01-Arabidopsis-DNAse-GSE53322/DS20968_PE_DNaseI-seq_7_day_old_seedling_Dark_24hr-GSM1289351\n",
      "/oak/stanford/groups/akundaje/manyu/DNAseSeq_data/2018-08-11-Arabidopsis-DNAse/01-Arabidopsis-DNAse-GSE53322/DS21094_PE_DNaseI-seq_7_day_old_seedling_Control-GSM1289359\n",
      "/oak/stanford/groups/akundaje/manyu/DNAseSeq_data/2018-08-11-Arabidopsis-DNAse/01-Arabidopsis-DNAse-GSE53322/DS20423_PE_DNaseI-seq_7_day_old_seedling_Heat_Shock-GSM1289361\n",
      "/oak/stanford/groups/akundaje/manyu/DNAseSeq_data/2018-08-11-Arabidopsis-DNAse/01-Arabidopsis-DNAse-GSE53322/DS19992_PE_DNaseI-seq_7_day_old_seedling_Control-GSM1289363\n",
      "/oak/stanford/groups/akundaje/manyu/DNAseSeq_data/2018-08-11-Arabidopsis-DNAse/01-Arabidopsis-DNAse-GSE53322/DS22140_PE_DNaseI-seq_7_day_old_seedling_Dark_30min_light-GSM1289353\n",
      "/oak/stanford/groups/akundaje/manyu/DNAseSeq_data/2018-08-11-Arabidopsis-DNAse/01-Arabidopsis-DNAse-GSE53322/DS19992_SE_DNaseI-seq_7_day_old_seedling_Control-GSM1289362\n"
     ]
    }
   ],
   "source": [
    "paths_1 = []\n",
    "for file in glob.glob(path_to_DNASE_1+'*'):\n",
    "    if file.split('/')[-1].startswith('DS'):\n",
    "        paths_1.append(file)\n",
    "        print(file)"
   ]
  },
  {
   "cell_type": "code",
   "execution_count": 14,
   "metadata": {},
   "outputs": [
    {
     "name": "stdout",
     "output_type": "stream",
     "text": [
      "/oak/stanford/groups/akundaje/manyu/DNAseSeq_data/2018-08-11-Arabidopsis-DNAse/03-Arabidopsis-DNAse-GSE53324/DS21306_DNaseI-seq_seed_coat_cell_7DPA-GSM1289379\n",
      "/oak/stanford/groups/akundaje/manyu/DNAseSeq_data/2018-08-11-Arabidopsis-DNAse/03-Arabidopsis-DNAse-GSE53324/DS21513_DNaseI-seq_root_hair_cell_7_day-GSM1289376\n",
      "/oak/stanford/groups/akundaje/manyu/DNAseSeq_data/2018-08-11-Arabidopsis-DNAse/03-Arabidopsis-DNAse-GSE53324/DS20201_SE_DNaseI-seq_seed_coat_cell_4DPA-GSM1289377\n",
      "/oak/stanford/groups/akundaje/manyu/DNAseSeq_data/2018-08-11-Arabidopsis-DNAse/03-Arabidopsis-DNAse-GSE53324/DS20434_DNaseI-seq_up-open_flowers-GSM1289381\n",
      "/oak/stanford/groups/akundaje/manyu/DNAseSeq_data/2018-08-11-Arabidopsis-DNAse/03-Arabidopsis-DNAse-GSE53324/DS16398_DNaseI-seq_root_non_hair_cell_10_day-GSM1289375\n",
      "/oak/stanford/groups/akundaje/manyu/DNAseSeq_data/2018-08-11-Arabidopsis-DNAse/03-Arabidopsis-DNAse-GSE53324/DS20201_PE_DNaseI-seq_seed_coat_cell_4DPA-GSM1289378\n",
      "/oak/stanford/groups/akundaje/manyu/DNAseSeq_data/2018-08-11-Arabidopsis-DNAse/03-Arabidopsis-DNAse-GSE53324/DS21511_DNaseI-seq_whole_root_7_day-GSM1289374\n",
      "/oak/stanford/groups/akundaje/manyu/DNAseSeq_data/2018-08-11-Arabidopsis-DNAse/03-Arabidopsis-DNAse-GSE53324/DS20427_DNaseI-seq_open_flowers-GSM1289380\n"
     ]
    }
   ],
   "source": [
    "paths_2 =[]\n",
    "for file in glob.glob(path_to_DNASE_2+'*'):\n",
    "    if file.split('/')[-1].startswith('DS'):\n",
    "        paths_2.append(file)\n",
    "        print(file)"
   ]
  },
  {
   "cell_type": "code",
   "execution_count": 18,
   "metadata": {},
   "outputs": [
    {
     "data": {
      "text/plain": [
       "(14, 8)"
      ]
     },
     "execution_count": 18,
     "metadata": {},
     "output_type": "execute_result"
    }
   ],
   "source": [
    "len(paths_1),len(paths_2)"
   ]
  },
  {
   "cell_type": "code",
   "execution_count": 19,
   "metadata": {
    "collapsed": true
   },
   "outputs": [],
   "source": []
  },
  {
   "cell_type": "code",
   "execution_count": 28,
   "metadata": {
    "collapsed": true
   },
   "outputs": [],
   "source": [
    "paths=paths_1+paths_2"
   ]
  },
  {
   "cell_type": "code",
   "execution_count": 38,
   "metadata": {},
   "outputs": [
    {
     "name": "stdout",
     "output_type": "stream",
     "text": [
      "/oak/stanford/groups/akundaje/manyu/DNAseSeq_data/2018-08-11-Arabidopsis-DNAse/01-Arabidopsis-DNAse-GSE53322/DS22140_SE_DNaseI-seq_7_day_old_seedling_Dark_30min_light-GSM1289352 1\n",
      "/oak/stanford/groups/akundaje/manyu/DNAseSeq_data/2018-08-11-Arabidopsis-DNAse/01-Arabidopsis-DNAse-GSE53322/DS20423_SE_DNaseI-seq_7_day_old_seedling_Heat_Shock-GSM1289360 2\n",
      "/oak/stanford/groups/akundaje/manyu/DNAseSeq_data/2018-08-11-Arabidopsis-DNAse/01-Arabidopsis-DNAse-GSE53322/DS20968_SE_DNaseI-seq_7_day_old_seedling_Dark_24hr-GSM1289350 3\n",
      "/oak/stanford/groups/akundaje/manyu/DNAseSeq_data/2018-08-11-Arabidopsis-DNAse/01-Arabidopsis-DNAse-GSE53322/DS21094_SE_DNaseI-seq_7_day_old_seedling_Control-GSM1289358 4\n",
      "/oak/stanford/groups/akundaje/manyu/DNAseSeq_data/2018-08-11-Arabidopsis-DNAse/01-Arabidopsis-DNAse-GSE53322/DS20412_SE_DNaseI-seq_7_day_old_seedling_Dark_3hr_light-GSM1289354 5\n",
      "/oak/stanford/groups/akundaje/manyu/DNAseSeq_data/2018-08-11-Arabidopsis-DNAse/01-Arabidopsis-DNAse-GSE53322/DS22138_SE_DNaseI-seq_7_day_old_seedling_Dark-GSM1289356 6\n",
      "/oak/stanford/groups/akundaje/manyu/DNAseSeq_data/2018-08-11-Arabidopsis-DNAse/01-Arabidopsis-DNAse-GSE53322/DS19992_SE_DNaseI-seq_7_day_old_seedling_Control-GSM1289362 7\n",
      "/oak/stanford/groups/akundaje/manyu/DNAseSeq_data/2018-08-11-Arabidopsis-DNAse/03-Arabidopsis-DNAse-GSE53324/DS21306_DNaseI-seq_seed_coat_cell_7DPA-GSM1289379 8\n",
      "/oak/stanford/groups/akundaje/manyu/DNAseSeq_data/2018-08-11-Arabidopsis-DNAse/03-Arabidopsis-DNAse-GSE53324/DS21513_DNaseI-seq_root_hair_cell_7_day-GSM1289376 9\n",
      "/oak/stanford/groups/akundaje/manyu/DNAseSeq_data/2018-08-11-Arabidopsis-DNAse/03-Arabidopsis-DNAse-GSE53324/DS20201_SE_DNaseI-seq_seed_coat_cell_4DPA-GSM1289377 10\n",
      "/oak/stanford/groups/akundaje/manyu/DNAseSeq_data/2018-08-11-Arabidopsis-DNAse/03-Arabidopsis-DNAse-GSE53324/DS20434_DNaseI-seq_up-open_flowers-GSM1289381 11\n",
      "/oak/stanford/groups/akundaje/manyu/DNAseSeq_data/2018-08-11-Arabidopsis-DNAse/03-Arabidopsis-DNAse-GSE53324/DS16398_DNaseI-seq_root_non_hair_cell_10_day-GSM1289375 12\n",
      "/oak/stanford/groups/akundaje/manyu/DNAseSeq_data/2018-08-11-Arabidopsis-DNAse/03-Arabidopsis-DNAse-GSE53324/DS20201_PE_DNaseI-seq_seed_coat_cell_4DPA-GSM1289378 13\n",
      "/oak/stanford/groups/akundaje/manyu/DNAseSeq_data/2018-08-11-Arabidopsis-DNAse/03-Arabidopsis-DNAse-GSE53324/DS21511_DNaseI-seq_whole_root_7_day-GSM1289374 14\n",
      "/oak/stanford/groups/akundaje/manyu/DNAseSeq_data/2018-08-11-Arabidopsis-DNAse/03-Arabidopsis-DNAse-GSE53324/DS20427_DNaseI-seq_open_flowers-GSM1289380 15\n",
      "second type \n",
      " \n",
      " \n",
      "\n",
      "/oak/stanford/groups/akundaje/manyu/DNAseSeq_data/2018-08-11-Arabidopsis-DNAse/01-Arabidopsis-DNAse-GSE53322/DS22138_PE_DNaseI-seq_7_day_old_seedling_Dark-GSM1289357 16\n",
      "/oak/stanford/groups/akundaje/manyu/DNAseSeq_data/2018-08-11-Arabidopsis-DNAse/01-Arabidopsis-DNAse-GSE53322/DS20412_PE_DNaseI-seq_7_day_old_seedling_Dark_3hr_light-GSM1289355 17\n",
      "/oak/stanford/groups/akundaje/manyu/DNAseSeq_data/2018-08-11-Arabidopsis-DNAse/01-Arabidopsis-DNAse-GSE53322/DS20968_PE_DNaseI-seq_7_day_old_seedling_Dark_24hr-GSM1289351 18\n",
      "/oak/stanford/groups/akundaje/manyu/DNAseSeq_data/2018-08-11-Arabidopsis-DNAse/01-Arabidopsis-DNAse-GSE53322/DS21094_PE_DNaseI-seq_7_day_old_seedling_Control-GSM1289359 19\n",
      "/oak/stanford/groups/akundaje/manyu/DNAseSeq_data/2018-08-11-Arabidopsis-DNAse/01-Arabidopsis-DNAse-GSE53322/DS20423_PE_DNaseI-seq_7_day_old_seedling_Heat_Shock-GSM1289361 20\n",
      "/oak/stanford/groups/akundaje/manyu/DNAseSeq_data/2018-08-11-Arabidopsis-DNAse/01-Arabidopsis-DNAse-GSE53322/DS19992_PE_DNaseI-seq_7_day_old_seedling_Control-GSM1289363 21\n",
      "/oak/stanford/groups/akundaje/manyu/DNAseSeq_data/2018-08-11-Arabidopsis-DNAse/01-Arabidopsis-DNAse-GSE53322/DS22140_PE_DNaseI-seq_7_day_old_seedling_Dark_30min_light-GSM1289353 22\n"
     ]
    }
   ],
   "source": [
    "commands_file = './commands.txt'\n",
    "f=open(commands_file,'w')\n",
    "\n",
    "count = 0\n",
    "for file in paths:\n",
    "    for a,b,c in os.walk(file):\n",
    "        if 'all.1x36mers.unique.bam' in c:\n",
    "            print(file,count+1)\n",
    "            count+=1\n",
    "            f.write('sh ../peak_calls_1.sh {}'.format(file)+'\\n')\n",
    "print(\"second type \\n \\n \\n\")\n",
    "for file in paths:\n",
    "    for a,b,c in os.walk(file):\n",
    "        if 'all.2x36mers.unique.bam' in c:\n",
    "            print(file,count+1)\n",
    "            count+=1\n",
    "            f.write('sh ../peak_calls_2.sh {}'.format(file)+'\\n')\n",
    "f.close()            "
   ]
  },
  {
   "cell_type": "code",
   "execution_count": 37,
   "metadata": {},
   "outputs": [
    {
     "name": "stdout",
     "output_type": "stream",
     "text": [
      "commands.txt  create_scripts.ipynb  peak_calls_1.sh  peak_calls_2.sh\r\n"
     ]
    }
   ],
   "source": [
    "!ls"
   ]
  },
  {
   "cell_type": "code",
   "execution_count": null,
   "metadata": {
    "collapsed": true
   },
   "outputs": [],
   "source": []
  }
 ],
 "metadata": {
  "kernelspec": {
   "display_name": "Python 3",
   "language": "python",
   "name": "python3"
  },
  "language_info": {
   "codemirror_mode": {
    "name": "ipython",
    "version": 3
   },
   "file_extension": ".py",
   "mimetype": "text/x-python",
   "name": "python",
   "nbconvert_exporter": "python",
   "pygments_lexer": "ipython3",
   "version": "3.6.3"
  }
 },
 "nbformat": 4,
 "nbformat_minor": 2
}
