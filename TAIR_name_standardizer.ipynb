{
 "cells": [
  {
   "cell_type": "code",
   "execution_count": 93,
   "metadata": {},
   "outputs": [],
   "source": [
    "import urllib2\n",
    "from bs4 import  BeautifulSoup\n",
    "\n",
    "\n",
    "def query_database(tf_name):\n",
    "    query_string = 'https://www.arabidopsis.org/servlets/Search?type=general&search_action=detail&method=1&show_obsolete=F&name={}&sub_type=gene&SEARCH_EXACT=4&SEARCH_CONTAINS=1'.format(tf_name)\n",
    "    data=urllib2.urlopen(query_string)\n",
    "    soup = BeautifulSoup(data.read())\n",
    "    return soup"
   ]
  },
  {
   "cell_type": "code",
   "execution_count": 95,
   "metadata": {},
   "outputs": [],
   "source": [
    "\n",
    "def find_standard_name(tf_name):\n",
    "    \"\"\"\n",
    "    Gets a standard name of the Arabidopsis TF given a common name by querying the Arabidopsis.org webpage\n",
    "    \"\"\"\n",
    "    soup = query_database(tf_name)\n",
    "    mydivs = soup.findAll(\"div\", {\"class\": \"result-other-names\"})\n",
    "    scientific_names=[]\n",
    "    other_names=soup.findAll(\"a\")\n",
    "    q_String = tf_name\n",
    "\n",
    "    for i in other_names:\n",
    "        #print i \n",
    "        if 'TairObject' in str(i) :\n",
    "            scientific_names.append(str(i).split('>')[1].split('<')[0])\n",
    "\n",
    "    index = None        \n",
    "    for j in range(0,len(mydivs)):\n",
    "            alt_names=str(mydivs[j]).split(':')[1].split('<')[0].strip().split(',')\n",
    "            #print alt_names\n",
    "            for i in alt_names:\n",
    "                #print i.strip()\n",
    "                if q_String == i.strip():\n",
    "                    index=j\n",
    "                    break\n",
    "\n",
    "    return scientific_names[index]\n"
   ]
  },
  {
   "cell_type": "code",
   "execution_count": 101,
   "metadata": {},
   "outputs": [
    {
     "data": {
      "text/plain": [
       "'AT4G30935'"
      ]
     },
     "execution_count": 101,
     "metadata": {},
     "output_type": "execute_result"
    }
   ],
   "source": [
    "find_standard_name('WRKY32')"
   ]
  },
  {
   "cell_type": "code",
   "execution_count": null,
   "metadata": {
    "collapsed": true
   },
   "outputs": [],
   "source": []
  }
 ],
 "metadata": {
  "kernelspec": {
   "display_name": "Python 2",
   "language": "python",
   "name": "python2"
  },
  "language_info": {
   "codemirror_mode": {
    "name": "ipython",
    "version": 2
   },
   "file_extension": ".py",
   "mimetype": "text/x-python",
   "name": "python",
   "nbconvert_exporter": "python",
   "pygments_lexer": "ipython2",
   "version": "2.7.12"
  }
 },
 "nbformat": 4,
 "nbformat_minor": 2
}
