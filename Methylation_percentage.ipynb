{
 "cells": [
  {
   "cell_type": "code",
   "execution_count": 1,
   "metadata": {
    "collapsed": false
   },
   "outputs": [
    {
     "data": {
      "text/plain": [
       "u'/users/manyu/misc_scripts_for_genomics'"
      ]
     },
     "execution_count": 1,
     "metadata": {},
     "output_type": "execute_result"
    }
   ],
   "source": [
    "pwd"
   ]
  },
  {
   "cell_type": "code",
   "execution_count": 53,
   "metadata": {
    "collapsed": false
   },
   "outputs": [],
   "source": [
    "import numpy as np\n",
    "import pybedtools\n",
    "from pysam import FastaFile\n",
    "import pyBigWig\n",
    "from genomedatalayer.util import nan_to_zero"
   ]
  },
  {
   "cell_type": "code",
   "execution_count": 54,
   "metadata": {
    "collapsed": false
   },
   "outputs": [],
   "source": []
  },
  {
   "cell_type": "code",
   "execution_count": 48,
   "metadata": {
    "collapsed": false
   },
   "outputs": [],
   "source": [
    "#Calculates total CpG sites, and methylation percentage in the region specified\n",
    "#CpG,Total Methylation/#CpG,Total Methylation/Total Sites  is returned\n",
    "\n",
    "def methylation_percentage(region,start,end):\n",
    "    fasta_file=FastaFile('/mnt/data/annotations/by_organism/human/hg20.GRCh38/GRCh38.genome.fa')\n",
    "#bw=pyBigWig.open('/mnt/lab_data/kundaje/manyu/Methylation_data/K562_wgbs.bigWig')\n",
    "    bw_filtered=pyBigWig.open('/mnt/lab_data/kundaje/manyu/Methylation_data/K562_wgbs_filtered.bigWig')\n",
    "\n",
    "    sequence=fasta_file.fetch(region,start,end+1).lower()\n",
    "    #print(sequence)\n",
    "    count_gc=0.0\n",
    "    sum_gc=0.0\n",
    "    for count in xrange(len(sequence)):\n",
    "        if find_CpG(sequence,count):\n",
    "            count_gc+=1\n",
    "    data_methylation=bw_filtered.values(region,start,end+1,numpy=True)\n",
    "    nan_to_zero(data_methylation)\n",
    "    sum_gc=np.sum(data_methylation)\n",
    "    if count_gc>0:\n",
    "        print(\"Returning total CpG,Fraction of methylated Cpg,Fraction of Methylated sites \\n\")\n",
    "        print(\"#CpG,Total Methylation/#CpG,Total Methylation/Total Sites \\n\")\n",
    "        return count_gc,sum_gc/count_gc,sum_gc/len(sequence)\n",
    "    \n",
    "    else:\n",
    "        print(\"No CpG found\")\n",
    "            "
   ]
  },
  {
   "cell_type": "code",
   "execution_count": 56,
   "metadata": {
    "collapsed": false
   },
   "outputs": [],
   "source": [
    "#Looks at the sequence at tells you if there is a CpG dinucleotide at sequence[count]\n",
    "\n",
    "def find_CpG(sequence,count):\n",
    "    letter=sequence[count]\n",
    "    if (count>0 and letter=='c' and count< len(sequence)-1):\n",
    "        if sequence[count-1]=='g' or sequence[count+1]=='g':\n",
    "            return True\n",
    "        else:\n",
    "            return False\n",
    "    elif (count==0 and letter=='c' and sequence[count+1]=='g'):\n",
    "        return True\n",
    "    elif (count ==len(sequence)-1 and letter=='c' and sequence[count-1]=='g'):\n",
    "        return True\n",
    "    return False\n",
    "\n",
    "\n",
    "        \n",
    "    \n",
    "    \n"
   ]
  },
  {
   "cell_type": "code",
   "execution_count": 55,
   "metadata": {
    "collapsed": false
   },
   "outputs": [
    {
     "name": "stdout",
     "output_type": "stream",
     "text": [
      "Returning total CpG,Fraction of methylated Cpg,Fraction of Methylated sites \n",
      "\n",
      "#CpG,Total Methylation/#CpG,Total Methylation/Total Sites \n",
      "\n"
     ]
    },
    {
     "data": {
      "text/plain": [
       "(15198.0, 0.023203051989134055, 0.0018559901481090067)"
      ]
     },
     "execution_count": 55,
     "metadata": {},
     "output_type": "execute_result"
    }
   ],
   "source": [
    "upper=200000\n",
    "lower=10000\n",
    "#print(fasta_file.fetch('chr7',lower,upper).lower())\n",
    "data=bw_filtered.values('chr7',lower,upper,numpy=True)\n",
    "nan_to_zero(data)\n",
    "#print(data)\n",
    "methylation_percentage('chr7',lower,upper)"
   ]
  },
  {
   "cell_type": "code",
   "execution_count": null,
   "metadata": {
    "collapsed": true
   },
   "outputs": [],
   "source": []
  }
 ],
 "metadata": {
  "anaconda-cloud": {},
  "kernelspec": {
   "display_name": "Python [conda env:dragonn]",
   "language": "python",
   "name": "conda-env-dragonn-py"
  },
  "language_info": {
   "codemirror_mode": {
    "name": "ipython",
    "version": 2
   },
   "file_extension": ".py",
   "mimetype": "text/x-python",
   "name": "python",
   "nbconvert_exporter": "python",
   "pygments_lexer": "ipython2",
   "version": "2.7.12"
  }
 },
 "nbformat": 4,
 "nbformat_minor": 1
}
