{
 "cells": [
  {
   "cell_type": "code",
   "execution_count": 1,
   "metadata": {
    "collapsed": false
   },
   "outputs": [
    {
     "data": {
      "text/plain": [
       "u'/users/manyu/misc_scripts_for_genomics'"
      ]
     },
     "execution_count": 1,
     "metadata": {},
     "output_type": "execute_result"
    }
   ],
   "source": [
    "pwd"
   ]
  },
  {
   "cell_type": "code",
   "execution_count": 1,
   "metadata": {
    "collapsed": false
   },
   "outputs": [
    {
     "name": "stderr",
     "output_type": "stream",
     "text": [
      "INFO:2017-09-14 19:44:48,680:genomedatalayer.config] No options file found. Using defaults.\n",
      "INFO:2017-09-14 19:44:48,683:genomedatalayer] Using generic Layer\n"
     ]
    }
   ],
   "source": [
    "import numpy as np\n",
    "import pybedtools\n",
    "from pysam import FastaFile\n",
    "import pyBigWig\n",
    "from genomedatalayer.util import nan_to_zero"
   ]
  },
  {
   "cell_type": "code",
   "execution_count": 54,
   "metadata": {
    "collapsed": false
   },
   "outputs": [],
   "source": []
  },
  {
   "cell_type": "code",
   "execution_count": 3,
   "metadata": {
    "collapsed": false
   },
   "outputs": [],
   "source": [
    "#Calculates total CpG sites, and methylation percentage in the region specified\n",
    "#CpG,Total Methylation/#CpG,Total Methylation/Total Sites  is returned\n",
    "\n",
    "def methylation_percentage(region,start,end):\n",
    "    fasta_file=FastaFile('/mnt/data/annotations/by_organism/human/hg20.GRCh38/GRCh38.genome.fa')\n",
    "#bw=pyBigWig.open('/mnt/lab_data/kundaje/manyu/Methylation_data/K562_wgbs.bigWig')\n",
    "    bw_filtered=pyBigWig.open('/mnt/lab_data/kundaje/manyu/Methylation_data/K562_wgbs_filtered.bigWig')\n",
    "\n",
    "    sequence=fasta_file.fetch(region,start,end+1).lower()\n",
    "    #print(sequence)\n",
    "    count_gc=0.0\n",
    "    sum_gc=0.0\n",
    "    for count in xrange(len(sequence)):\n",
    "        if find_CpG(sequence,count):\n",
    "            count_gc+=1\n",
    "    data_methylation=bw_filtered.values(region,start,end+1,numpy=True)\n",
    "    nan_to_zero(data_methylation)\n",
    "    sum_gc=np.sum(data_methylation)\n",
    "    if count_gc>0:\n",
    "        print(\"Returning total CpG,Fraction of methylated Cpg,Fraction of Methylated sites \\n\")\n",
    "        print(\"#CpG,Total Methylation/#CpG,Total Methylation/Total Sites \\n\")\n",
    "        return count_gc,sum_gc/count_gc,sum_gc/len(sequence)\n",
    "    \n",
    "    else:\n",
    "        print(\"No CpG found\")\n",
    "            "
   ]
  },
  {
   "cell_type": "code",
   "execution_count": 4,
   "metadata": {
    "collapsed": false
   },
   "outputs": [],
   "source": [
    "#Looks at the sequence at tells you if there is a CpG dinucleotide at sequence[count]\n",
    "\n",
    "def find_CpG(sequence,count):\n",
    "    letter=sequence[count]\n",
    "    if (count>0 and letter=='c' and count< len(sequence)-1):\n",
    "        if sequence[count-1]=='g' or sequence[count+1]=='g':\n",
    "            return True\n",
    "        else:\n",
    "            return False\n",
    "    elif (count==0 and letter=='c' and sequence[count+1]=='g'):\n",
    "        return True\n",
    "    elif (count ==len(sequence)-1 and letter=='c' and sequence[count-1]=='g'):\n",
    "        return True\n",
    "    return False\n",
    "\n",
    "\n",
    "        \n",
    "    \n",
    "    \n"
   ]
  },
  {
   "cell_type": "code",
   "execution_count": 6,
   "metadata": {
    "collapsed": false
   },
   "outputs": [
    {
     "name": "stdout",
     "output_type": "stream",
     "text": [
      "Returning total CpG,Fraction of methylated Cpg,Fraction of Methylated sites \n",
      "\n",
      "#CpG,Total Methylation/#CpG,Total Methylation/Total Sites \n",
      "\n"
     ]
    },
    {
     "data": {
      "text/plain": [
       "(26.0, 0.54538459044236398, 0.14039603318318283)"
      ]
     },
     "execution_count": 6,
     "metadata": {},
     "output_type": "execute_result"
    }
   ],
   "source": [
    "upper=27165400\n",
    "lower=27165300\n",
    "# #print(fasta_file.fetch('chr7',lower,upper).lower())\n",
    "# data=bw_filtered.values('chr7',lower,upper,numpy=True)\n",
    "# nan_to_zero(data)\n",
    "# #print(data)\n",
    "methylation_percentage('chr7',lower,upper)"
   ]
  },
  {
   "cell_type": "code",
   "execution_count": 9,
   "metadata": {
    "collapsed": false
   },
   "outputs": [],
   "source": [
    "path='/srv/scratch/manyu/data/hg38/K562/ENCSR000AKO/released/GRCh38/optimal_idr_thresholded_peaks/bed/narrowpeak/rep1_rep2/ENCFF519CXF.bed.gz'"
   ]
  },
  {
   "cell_type": "code",
   "execution_count": 16,
   "metadata": {
    "collapsed": true
   },
   "outputs": [],
   "source": [
    "import gzip\n",
    "with gzip.open(path,'rb') as f:\n",
    "    data_lines=f.readlines()"
   ]
  },
  {
   "cell_type": "code",
   "execution_count": 20,
   "metadata": {
    "collapsed": false
   },
   "outputs": [
    {
     "data": {
      "text/plain": [
       "49765"
      ]
     },
     "execution_count": 20,
     "metadata": {},
     "output_type": "execute_result"
    }
   ],
   "source": [
    "len(data_lines)"
   ]
  },
  {
   "cell_type": "code",
   "execution_count": 24,
   "metadata": {
    "collapsed": true
   },
   "outputs": [],
   "source": [
    "import re"
   ]
  },
  {
   "cell_type": "code",
   "execution_count": 42,
   "metadata": {
    "collapsed": false
   },
   "outputs": [],
   "source": [
    "if re.search('bed.gzp',path):\n",
    "     print \"found\"\n",
    "else        "
   ]
  },
  {
   "cell_type": "code",
   "execution_count": 40,
   "metadata": {
    "collapsed": false
   },
   "outputs": [
    {
     "ename": "NameError",
     "evalue": "name 'true' is not defined",
     "output_type": "error",
     "traceback": [
      "\u001b[0;31m---------------------------------------------------------------------------\u001b[0m",
      "\u001b[0;31mNameError\u001b[0m                                 Traceback (most recent call last)",
      "\u001b[0;32m<ipython-input-40-0cb077e7e9d1>\u001b[0m in \u001b[0;36m<module>\u001b[0;34m()\u001b[0m\n\u001b[1;32m      1\u001b[0m \u001b[0;32mif\u001b[0m \u001b[0mmatch\u001b[0m\u001b[0;34m:\u001b[0m\u001b[0;34m\u001b[0m\u001b[0m\n\u001b[0;32m----> 2\u001b[0;31m     \u001b[0;32mprint\u001b[0m \u001b[0mtrue\u001b[0m\u001b[0;34m\u001b[0m\u001b[0m\n\u001b[0m",
      "\u001b[0;31mNameError\u001b[0m: name 'true' is not defined"
     ]
    }
   ],
   "source": [
    "if match:\n",
    "    print true"
   ]
  },
  {
   "cell_type": "code",
   "execution_count": null,
   "metadata": {
    "collapsed": true
   },
   "outputs": [],
   "source": []
  }
 ],
 "metadata": {
  "anaconda-cloud": {},
  "kernelspec": {
   "display_name": "Python [conda env:dragonn]",
   "language": "python",
   "name": "conda-env-dragonn-py"
  },
  "language_info": {
   "codemirror_mode": {
    "name": "ipython",
    "version": 2
   },
   "file_extension": ".py",
   "mimetype": "text/x-python",
   "name": "python",
   "nbconvert_exporter": "python",
   "pygments_lexer": "ipython2",
   "version": "2.7.12"
  }
 },
 "nbformat": 4,
 "nbformat_minor": 1
}
