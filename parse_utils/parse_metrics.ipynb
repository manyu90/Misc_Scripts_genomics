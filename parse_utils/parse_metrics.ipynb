{
 "cells": [
  {
   "cell_type": "code",
   "execution_count": 29,
   "metadata": {},
   "outputs": [],
   "source": [
    "import os\n",
    "import re\n"
   ]
  },
  {
   "cell_type": "code",
   "execution_count": 265,
   "metadata": {},
   "outputs": [],
   "source": [
    "class parse_metrics(object):\n",
    "    def __init__(self,metrics_file):\n",
    "        assert os.path.exists(metrics_file)\n",
    "        self.filename = metrics_file\n",
    "        with open(self.filename,'r') as f:\n",
    "            self.file = f.readlines()\n",
    "        self.total_pos_and_neg()    \n",
    "        self.metrics_dict = {}  \n",
    "        n=1\n",
    "        while(self.extract_metrics_of_epoch(n)):\n",
    "            print(\"Parsing Epoch: {}\".format(n))\n",
    "            self.metrics_dict[n] = self.parse_metrics_of_epoch(n)\n",
    "            n+=1\n",
    "        self.best_epoch = self.extract_best_epoch()    \n",
    "            \n",
    "    \n",
    "    def extract_best_epoch(self):\n",
    "        last_line  = self.file[-1]\n",
    "        match = re.search('from epoch [0-9]+',last_line)\n",
    "        if match:\n",
    "            match = match.group()\n",
    "        else:\n",
    "            return(\"Model has not finished training/trained\")\n",
    "        best_epoch = int(match.lstrip('from epoch'))\n",
    "        return best_epoch\n",
    "    \n",
    "    def extract_metrics_of_epoch(self,n):\n",
    "        for i,line in enumerate(self.file):\n",
    "            match = re.search('Epoch {}:'.format(str(n)),line)\n",
    "            if match:\n",
    "                break\n",
    "        if i==(len(self.file)-1):   #Went to the end of the file with no matches found\n",
    "            print(\"No match found for Epoch: {} \\n\".format(n))\n",
    "            return\n",
    "        else:\n",
    "            return self.file[i:i+4]     \n",
    "             \n",
    "    def parse_metrics_of_epoch(self,n):\n",
    "        metrics_dict = {}\n",
    "        if n in self.metrics_dict:\n",
    "            return self.metrics_dict[n]\n",
    "        \n",
    "        \n",
    "        metrics = self.extract_metrics_of_epoch(n)\n",
    "        if metrics:\n",
    "            metrics_dict['Epoch'] = n\n",
    "            line3 = metrics[2]\n",
    "            metrics_dict['auroc'] = float(line3.split('\\t')[1].lstrip('auROC:'))\n",
    "            metrics_dict['auprc'] = float(line3.split('\\t')[2].strip().lstrip('auPRC:'))\n",
    "            line4 = metrics[3]\n",
    "            match = re.search('FDR: [0-9.% | ]+',line4).group()\n",
    "            match = match.lstrip('FDR:').split('|')\n",
    "            recall_vals = [float(_.strip().rstrip('%')) for _ in match]\n",
    "            metrics_dict['recall_5'] = recall_vals[0]\n",
    "            metrics_dict['recall_10'] = recall_vals[1]\n",
    "            metrics_dict['recall_25'] = recall_vals[2]\n",
    "            metrics_dict['recall_50'] = recall_vals[3]\n",
    "            return metrics_dict\n",
    "            \n",
    "        \n",
    "        return \n",
    "    \n",
    "    def total_pos_and_neg(self):\n",
    "        metrics = self.extract_metrics_of_epoch(1)\n",
    "        pos,neg = re.search('Num Positives: [0-9]+',metrics[-1]).group(),\\\n",
    "        re.search('Num Negatives: [0-9]+',metrics[-1]).group()\n",
    "        pos = int(pos.split(':')[-1])\n",
    "        neg = int(neg.split(':')[-1])\n",
    "        self.pos = pos\n",
    "        self.neg = neg\n",
    "        \n",
    "        \n",
    "        \n",
    "        "
   ]
  },
  {
   "cell_type": "code",
   "execution_count": 266,
   "metadata": {},
   "outputs": [
    {
     "name": "stdout",
     "output_type": "stream",
     "text": [
      "Parsing Epoch: 1\n",
      "Parsing Epoch: 2\n",
      "Parsing Epoch: 3\n",
      "Parsing Epoch: 4\n",
      "Parsing Epoch: 5\n",
      "Parsing Epoch: 6\n",
      "Parsing Epoch: 7\n",
      "Parsing Epoch: 8\n",
      "Parsing Epoch: 9\n",
      "Parsing Epoch: 10\n",
      "Parsing Epoch: 11\n",
      "Parsing Epoch: 12\n",
      "Parsing Epoch: 13\n",
      "Parsing Epoch: 14\n",
      "Parsing Epoch: 15\n",
      "Parsing Epoch: 16\n",
      "No match found for Epoch: 17 \n",
      "\n"
     ]
    }
   ],
   "source": [
    "path_to_metrics_file = '/mnt/lab_data/kundaje/manyu/DapSeq_models/seq_meth_C_models/logdir_DEL2/metrics.log'\n",
    "file_parser = parse_metrics(path_to_metrics_file)"
   ]
  },
  {
   "cell_type": "code",
   "execution_count": 267,
   "metadata": {},
   "outputs": [
    {
     "data": {
      "text/plain": [
       "{'Epoch': 9,\n",
       " 'auprc': 0.551,\n",
       " 'auroc': 0.979,\n",
       " 'recall_10': 18.4,\n",
       " 'recall_25': 42.7,\n",
       " 'recall_5': 6.3,\n",
       " 'recall_50': 56.9}"
      ]
     },
     "execution_count": 267,
     "metadata": {},
     "output_type": "execute_result"
    }
   ],
   "source": [
    "file_parser.metrics_dict[file_parser.best_epoch]\n"
   ]
  },
  {
   "cell_type": "code",
   "execution_count": 255,
   "metadata": {},
   "outputs": [
    {
     "data": {
      "text/plain": [
       "dict_keys(['pos', 'metrics_dict', 'best_epoch', 'filename', 'file', 'neg'])"
      ]
     },
     "execution_count": 255,
     "metadata": {},
     "output_type": "execute_result"
    }
   ],
   "source": [
    "file_parser.__dict__.keys()"
   ]
  },
  {
   "cell_type": "code",
   "execution_count": null,
   "metadata": {},
   "outputs": [],
   "source": []
  },
  {
   "cell_type": "code",
   "execution_count": 223,
   "metadata": {},
   "outputs": [
    {
     "data": {
      "text/plain": [
       "'Recall at 5% | 10% | 25% | 50% FDR: 0.5% | 0.5% | 19.3% | 44.6%\\tNum Positives: 921\\t Num Negatives: 116328\\n'"
      ]
     },
     "execution_count": 223,
     "metadata": {},
     "output_type": "execute_result"
    }
   ],
   "source": [
    "metrics[-1]"
   ]
  },
  {
   "cell_type": "code",
   "execution_count": 230,
   "metadata": {},
   "outputs": [],
   "source": [
    "pos,neg = re.search('Num Positives: [0-9]+',metrics[-1]).group(),re.search('Num Negatives: [0-9]+',metrics[-1]).group()"
   ]
  },
  {
   "cell_type": "code",
   "execution_count": 232,
   "metadata": {},
   "outputs": [
    {
     "name": "stdout",
     "output_type": "stream",
     "text": [
      "921 116328\n"
     ]
    }
   ],
   "source": [
    "pos,neg = re.search('Num Positives: [0-9]+',metrics[-1]).group(),re.search('Num Negatives: [0-9]+',metrics[-1]).group()\n",
    "pos = int(pos.split(':')[-1])\n",
    "neg = int(neg.split(':')[-1])\n",
    "print(pos,neg)"
   ]
  },
  {
   "cell_type": "code",
   "execution_count": 205,
   "metadata": {},
   "outputs": [],
   "source": [
    "match = re.search('FDR: [0-9.% | ]+',line).group()\n",
    "match = match.lstrip('FDR:').split('|')"
   ]
  },
  {
   "cell_type": "code",
   "execution_count": 198,
   "metadata": {},
   "outputs": [
    {
     "data": {
      "text/plain": [
       "[5.1, 14.2, 40.6, 71.3]"
      ]
     },
     "execution_count": 198,
     "metadata": {},
     "output_type": "execute_result"
    }
   ],
   "source": [
    "[float(_.strip().rstrip('%')) for _ in match]"
   ]
  },
  {
   "cell_type": "code",
   "execution_count": null,
   "metadata": {},
   "outputs": [],
   "source": []
  }
 ],
 "metadata": {
  "kernelspec": {
   "display_name": "Python [default]",
   "language": "python",
   "name": "python3"
  },
  "language_info": {
   "codemirror_mode": {
    "name": "ipython",
    "version": 3
   },
   "file_extension": ".py",
   "mimetype": "text/x-python",
   "name": "python",
   "nbconvert_exporter": "python",
   "pygments_lexer": "ipython3",
   "version": "3.5.4"
  }
 },
 "nbformat": 4,
 "nbformat_minor": 2
}
