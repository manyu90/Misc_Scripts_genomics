{
 "cells": [
  {
   "cell_type": "code",
   "execution_count": 1,
   "metadata": {},
   "outputs": [],
   "source": [
    "import os\n",
    "import glob\n"
   ]
  },
  {
   "cell_type": "code",
   "execution_count": 2,
   "metadata": {},
   "outputs": [],
   "source": [
    "path_to_labeled_intervals = '/oak/stanford/groups/akundaje/manyu/train_H1_GM/label_regions/H1/\\\n",
    "labeled_intervals/'"
   ]
  },
  {
   "cell_type": "code",
   "execution_count": 3,
   "metadata": {},
   "outputs": [
    {
     "name": "stdout",
     "output_type": "stream",
     "text": [
      "/oak/stanford/groups/akundaje/manyu/train_H1_GM/label_regions/H1/labeled_intervals/ENCSR000EBZ_JUND_H1_bin200_flank400_stride200.json\n",
      "/oak/stanford/groups/akundaje/manyu/train_H1_GM/label_regions/H1/labeled_intervals/ENCSR000BIC_POLR2AphosphoS5_H1_bin200_flank400_stride200.json\n",
      "/oak/stanford/groups/akundaje/manyu/train_H1_GM/label_regions/H1/labeled_intervals/ENCSR462XRE_H2BK20ac_H1_bin200_flank400_stride200.json\n",
      "/oak/stanford/groups/akundaje/manyu/train_H1_GM/label_regions/H1/labeled_intervals/ENCSR000BIR_SP1_H1_bin200_flank400_stride200.json\n",
      "/oak/stanford/groups/akundaje/manyu/train_H1_GM/label_regions/H1/labeled_intervals/ENCSR784VUY_RNF2_H1_bin200_flank400_stride200.json\n",
      "/oak/stanford/groups/akundaje/manyu/train_H1_GM/label_regions/H1/labeled_intervals/ENCSR161NON_H2BK5ac_H1_bin200_flank400_stride200.json\n",
      "/oak/stanford/groups/akundaje/manyu/train_H1_GM/label_regions/H1/labeled_intervals/ENCSR631RJR_H3K4me1_H1_bin200_flank400_stride200.json\n",
      "/oak/stanford/groups/akundaje/manyu/train_H1_GM/label_regions/H1/labeled_intervals/ENCSR000BLD_RAD21_H1_bin200_flank400_stride200.json\n",
      "/oak/stanford/groups/akundaje/manyu/train_H1_GM/label_regions/H1/labeled_intervals/ENCSR000AQC_RBBP5_H1_bin200_flank400_stride200.json\n",
      "/oak/stanford/groups/akundaje/manyu/train_H1_GM/label_regions/H1/labeled_intervals/ENCSR271TFS_H3K4me1_H1_bin200_flank400_stride200.json\n",
      "/oak/stanford/groups/akundaje/manyu/train_H1_GM/label_regions/H1/labeled_intervals/ENCSR000BLU_TAF7_H1_bin200_flank400_stride200.json\n",
      "/oak/stanford/groups/akundaje/manyu/train_H1_GM/label_regions/H1/labeled_intervals/ENCSR596GGV_H3K4me1_H1_bin200_flank400_stride200.json\n",
      "/oak/stanford/groups/akundaje/manyu/train_H1_GM/label_regions/H1/labeled_intervals/ENCSR000ATK_PHF8_H1_bin200_flank400_stride200.json\n",
      "/oak/stanford/groups/akundaje/manyu/train_H1_GM/label_regions/H1/labeled_intervals/ENCSR301HRV_H3K79me2_H1_bin200_flank400_stride200.json\n",
      "/oak/stanford/groups/akundaje/manyu/train_H1_GM/label_regions/H1/labeled_intervals/ENCSR000EBQ_BACH1_H1_bin200_flank400_stride200.json\n",
      "/oak/stanford/groups/akundaje/manyu/train_H1_GM/label_regions/H1/labeled_intervals/ENCSR213IGY_H3K9me3_H1_bin200_flank400_stride200.json\n",
      "/oak/stanford/groups/akundaje/manyu/train_H1_GM/label_regions/H1/labeled_intervals/ENCSR928HYM_H3K27me3_H1_bin200_flank400_stride200.json\n",
      "/oak/stanford/groups/akundaje/manyu/train_H1_GM/label_regions/H1/labeled_intervals/ENCSR000ECD_USF2_H1_bin200_flank400_stride200.json\n",
      "/oak/stanford/groups/akundaje/manyu/train_H1_GM/label_regions/H1/labeled_intervals/ENCSR000BKC_ATF3_H1_bin200_flank400_stride200.json\n",
      "/oak/stanford/groups/akundaje/manyu/train_H1_GM/label_regions/H1/labeled_intervals/ENCSR000BHO_TAF1_H1_bin200_flank400_stride200.json\n",
      "/oak/stanford/groups/akundaje/manyu/train_H1_GM/label_regions/H1/labeled_intervals/ENCSR000AVA_CHD7_H1_bin200_flank400_stride200.json\n",
      "/oak/stanford/groups/akundaje/manyu/train_H1_GM/label_regions/H1/labeled_intervals/ENCSR000BIP_BCL11A_H1_bin200_flank400_stride200.json\n",
      "/oak/stanford/groups/akundaje/manyu/train_H1_GM/label_regions/H1/labeled_intervals/ENCSR000BKK_EP300_H1_bin200_flank400_stride200.json\n",
      "/oak/stanford/groups/akundaje/manyu/train_H1_GM/label_regions/H1/labeled_intervals/ENCSR000BHN_POLR2A_H1_bin200_flank400_stride200.json\n",
      "/oak/stanford/groups/akundaje/manyu/train_H1_GM/label_regions/H1/labeled_intervals/ENCSR848DUN_H2BK120ac_H1_bin200_flank400_stride200.json\n",
      "/oak/stanford/groups/akundaje/manyu/train_H1_GM/label_regions/H1/labeled_intervals/ENCSR000BNR_HDAC2_H1_bin200_flank400_stride200.json\n",
      "/oak/stanford/groups/akundaje/manyu/train_H1_GM/label_regions/H1/labeled_intervals/ENCSR000ECE_RAD21_H1_bin200_flank400_stride200.json\n",
      "/oak/stanford/groups/akundaje/manyu/train_H1_GM/label_regions/H1/labeled_intervals/ENCSR814XPE_H3K4me3_H1_bin200_flank400_stride200.json\n",
      "/oak/stanford/groups/akundaje/manyu/train_H1_GM/label_regions/H1/labeled_intervals/ENCSR739BZR_H2BK15ac_H1_bin200_flank400_stride200.json\n",
      "/oak/stanford/groups/akundaje/manyu/train_H1_GM/label_regions/H1/labeled_intervals/ENCSR000AMF_CTCF_H1_bin200_flank400_stride200.json\n",
      "/oak/stanford/groups/akundaje/manyu/train_H1_GM/label_regions/H1/labeled_intervals/ENCSR000ECA_JUN_H1_bin200_flank400_stride200.json\n",
      "/oak/stanford/groups/akundaje/manyu/train_H1_GM/label_regions/H1/labeled_intervals/ENCSR000EBX_BRCA1_H1_bin200_flank400_stride200.json\n",
      "/oak/stanford/groups/akundaje/manyu/train_H1_GM/label_regions/H1/labeled_intervals/ENCSR186OBR_H3K27me3_H1_bin200_flank400_stride200.json\n",
      "/oak/stanford/groups/akundaje/manyu/train_H1_GM/label_regions/H1/labeled_intervals/ENCSR009MSL_H3K36me3_H1_bin200_flank400_stride200.json\n",
      "/oak/stanford/groups/akundaje/manyu/train_H1_GM/label_regions/H1/labeled_intervals/ENCSR000BJA_EGR1_H1_bin200_flank400_stride200.json\n",
      "/oak/stanford/groups/akundaje/manyu/train_H1_GM/label_regions/H1/labeled_intervals/ENCSR000BIT_TCF12_H1_bin200_flank400_stride200.json\n",
      "/oak/stanford/groups/akundaje/manyu/train_H1_GM/label_regions/H1/labeled_intervals/ENCSR858BOF_H4K91ac_H1_bin200_flank400_stride200.json\n",
      "/oak/stanford/groups/akundaje/manyu/train_H1_GM/label_regions/H1/labeled_intervals/ENCSR895AWR_KDM6A_H1_bin200_flank400_stride200.json\n",
      "/oak/stanford/groups/akundaje/manyu/train_H1_GM/label_regions/H1/labeled_intervals/ENCSR815LBP_H3K23ac_H1_bin200_flank400_stride200.json\n",
      "/oak/stanford/groups/akundaje/manyu/train_H1_GM/label_regions/H1/labeled_intervals/ENCSR418RRF_KDM1A_H1_bin200_flank400_stride200.json\n",
      "/oak/stanford/groups/akundaje/manyu/train_H1_GM/label_regions/H1/labeled_intervals/ENCSR000BIW_GABPA_H1_bin200_flank400_stride200.json\n",
      "/oak/stanford/groups/akundaje/manyu/train_H1_GM/label_regions/H1/labeled_intervals/ENCSR000BNH_CTCF_H1_bin200_flank400_stride200.json\n",
      "/oak/stanford/groups/akundaje/manyu/train_H1_GM/label_regions/H1/labeled_intervals/ENCSR000BNS_FOSL1_H1_bin200_flank400_stride200.json\n",
      "/oak/stanford/groups/akundaje/manyu/train_H1_GM/label_regions/H1/labeled_intervals/ENCSR160ZLP_KDM5A_H1_bin200_flank400_stride200.json\n",
      "/oak/stanford/groups/akundaje/manyu/train_H1_GM/label_regions/H1/labeled_intervals/ENCSR891KGZ_H4K8ac_H1_bin200_flank400_stride200.json\n",
      "/oak/stanford/groups/akundaje/manyu/train_H1_GM/label_regions/H1/labeled_intervals/ENCSR000EBT_CHD2_H1_bin200_flank400_stride200.json\n",
      "/oak/stanford/groups/akundaje/manyu/train_H1_GM/label_regions/H1/labeled_intervals/ENCSR000BMT_NANOG_H1_bin200_flank400_stride200.json\n",
      "/oak/stanford/groups/akundaje/manyu/train_H1_GM/label_regions/H1/labeled_intervals/ENCSR591AOD_PAF1_H1_bin200_flank400_stride200.json\n",
      "/oak/stanford/groups/akundaje/manyu/train_H1_GM/label_regions/H1/labeled_intervals/ENCSR000BKD_YY1_H1_bin200_flank400_stride200.json\n",
      "/oak/stanford/groups/akundaje/manyu/train_H1_GM/label_regions/H1/labeled_intervals/ENCSR000BIV_SRF_H1_bin200_flank400_stride200.json\n",
      "/oak/stanford/groups/akundaje/manyu/train_H1_GM/label_regions/H1/labeled_intervals/ENCSR853NNZ_WDR5_H1_bin200_flank400_stride200.json\n",
      "/oak/stanford/groups/akundaje/manyu/train_H1_GM/label_regions/H1/labeled_intervals/ENCSR000AUQ_EP300_H1_bin200_flank400_stride200.json\n",
      "/oak/stanford/groups/akundaje/manyu/train_H1_GM/label_regions/H1/labeled_intervals/ENCSR000AUS_SIRT6_H1_bin200_flank400_stride200.json\n",
      "/oak/stanford/groups/akundaje/manyu/train_H1_GM/label_regions/H1/labeled_intervals/ENCSR000ATS_SUZ12_H1_bin200_flank400_stride200.json\n",
      "/oak/stanford/groups/akundaje/manyu/train_H1_GM/label_regions/H1/labeled_intervals/ENCSR000EBP_GTF2F1_H1_bin200_flank400_stride200.json\n",
      "/oak/stanford/groups/akundaje/manyu/train_H1_GM/label_regions/H1/labeled_intervals/ENCSR000AVC_KDM4A_H1_bin200_flank400_stride200.json\n",
      "/oak/stanford/groups/akundaje/manyu/train_H1_GM/label_regions/H1/labeled_intervals/ENCSR663WAR_REST_H1_bin200_flank400_stride200.json\n",
      "/oak/stanford/groups/akundaje/manyu/train_H1_GM/label_regions/H1/labeled_intervals/ENCSR364BKW_H2BK12ac_H1_bin200_flank400_stride200.json\n",
      "/oak/stanford/groups/akundaje/manyu/train_H1_GM/label_regions/H1/labeled_intervals/ENCSR000ATR_SAP30_H1_bin200_flank400_stride200.json\n",
      "/oak/stanford/groups/akundaje/manyu/train_H1_GM/label_regions/H1/labeled_intervals/ENCSR216OGD_H3K27me3_H1_bin200_flank400_stride200.json\n",
      "/oak/stanford/groups/akundaje/manyu/train_H1_GM/label_regions/H1/labeled_intervals/ENCSR000BKP_JUND_H1_bin200_flank400_stride200.json\n",
      "/oak/stanford/groups/akundaje/manyu/train_H1_GM/label_regions/H1/labeled_intervals/ENCSR000BIS_SIN3A_H1_bin200_flank400_stride200.json\n",
      "/oak/stanford/groups/akundaje/manyu/train_H1_GM/label_regions/H1/labeled_intervals/ENCSR000EBW_ZNF143_H1_bin200_flank400_stride200.json\n",
      "/oak/stanford/groups/akundaje/manyu/train_H1_GM/label_regions/H1/labeled_intervals/ENCSR000EBY_MYC_H1_bin200_flank400_stride200.json\n",
      "/oak/stanford/groups/akundaje/manyu/train_H1_GM/label_regions/H1/labeled_intervals/ENCSR000BHM_REST_H1_bin200_flank400_stride200.json\n",
      "/oak/stanford/groups/akundaje/manyu/train_H1_GM/label_regions/H1/labeled_intervals/ENCSR441UHO_H3K9ac_H1_bin200_flank400_stride200.json\n",
      "/oak/stanford/groups/akundaje/manyu/train_H1_GM/label_regions/H1/labeled_intervals/ENCSR675FLJ_H4K5ac_H1_bin200_flank400_stride200.json\n",
      "/oak/stanford/groups/akundaje/manyu/train_H1_GM/label_regions/H1/labeled_intervals/ENCSR000DLK_CTCF_H1_bin200_flank400_stride200.json\n",
      "/oak/stanford/groups/akundaje/manyu/train_H1_GM/label_regions/H1/labeled_intervals/ENCSR130EML_H3K4ac_H1_bin200_flank400_stride200.json\n",
      "/oak/stanford/groups/akundaje/manyu/train_H1_GM/label_regions/H1/labeled_intervals/ENCSR000EBO_SIN3A_H1_bin200_flank400_stride200.json\n",
      "/oak/stanford/groups/akundaje/manyu/train_H1_GM/label_regions/H1/labeled_intervals/ENCSR882AWL_RING1_H1_bin200_flank400_stride200.json\n",
      "/oak/stanford/groups/akundaje/manyu/train_H1_GM/label_regions/H1/labeled_intervals/ENCSR000BIQ_SIX5_H1_bin200_flank400_stride200.json\n",
      "/oak/stanford/groups/akundaje/manyu/train_H1_GM/label_regions/H1/labeled_intervals/ENCSR000ANP_H3K27ac_H1_bin200_flank400_stride200.json\n",
      "/oak/stanford/groups/akundaje/manyu/train_H1_GM/label_regions/H1/labeled_intervals/ENCSR442DGE_H3K79me1_H1_bin200_flank400_stride200.json\n",
      "/oak/stanford/groups/akundaje/manyu/train_H1_GM/label_regions/H1/labeled_intervals/ENCSR267YDT_CBX3_H1_bin200_flank400_stride200.json\n",
      "/oak/stanford/groups/akundaje/manyu/train_H1_GM/label_regions/H1/labeled_intervals/ENCSR000ECF_RFX5_H1_bin200_flank400_stride200.json\n",
      "/oak/stanford/groups/akundaje/manyu/train_H1_GM/label_regions/H1/labeled_intervals/ENCSR326NQF_H3K23me2_H1_bin200_flank400_stride200.json\n",
      "/oak/stanford/groups/akundaje/manyu/train_H1_GM/label_regions/H1/labeled_intervals/ENCSR768FWX_H3K56ac_H1_bin200_flank400_stride200.json\n",
      "/oak/stanford/groups/akundaje/manyu/train_H1_GM/label_regions/H1/labeled_intervals/ENCSR019SQX_H3K4me3_H1_bin200_flank400_stride200.json\n",
      "/oak/stanford/groups/akundaje/manyu/train_H1_GM/label_regions/H1/labeled_intervals/ENCSR571IIS_H2AFZ_H1_bin200_flank400_stride200.json\n",
      "/oak/stanford/groups/akundaje/manyu/train_H1_GM/label_regions/H1/labeled_intervals/ENCSR000BMJ_BCL11A_H1_bin200_flank400_stride200.json\n",
      "/oak/stanford/groups/akundaje/manyu/train_H1_GM/label_regions/H1/labeled_intervals/ENCSR157EOE_KDM5B_H1_bin200_flank400_stride200.json\n",
      "/oak/stanford/groups/akundaje/manyu/train_H1_GM/label_regions/H1/labeled_intervals/ENCSR000ATQ_HDAC6_H1_bin200_flank400_stride200.json\n",
      "/oak/stanford/groups/akundaje/manyu/train_H1_GM/label_regions/H1/labeled_intervals/ENCSR000ECB_TBP_H1_bin200_flank400_stride200.json\n",
      "/oak/stanford/groups/akundaje/manyu/train_H1_GM/label_regions/H1/labeled_intervals/ENCSR476KTK_H3K36me3_H1_bin200_flank400_stride200.json\n",
      "/oak/stanford/groups/akundaje/manyu/train_H1_GM/label_regions/H1/labeled_intervals/ENCSR728SZE_H4K20me1_H1_bin200_flank400_stride200.json\n",
      "/oak/stanford/groups/akundaje/manyu/train_H1_GM/label_regions/H1/labeled_intervals/ENCSR443YAS_H3K4me3_H1_bin200_flank400_stride200.json\n",
      "/oak/stanford/groups/akundaje/manyu/train_H1_GM/label_regions/H1/labeled_intervals/ENCSR057BTG_H3K14ac_H1_bin200_flank400_stride200.json\n",
      "/oak/stanford/groups/akundaje/manyu/train_H1_GM/label_regions/H1/labeled_intervals/ENCSR703KXH_H2AK5ac_H1_bin200_flank400_stride200.json\n",
      "/oak/stanford/groups/akundaje/manyu/train_H1_GM/label_regions/H1/labeled_intervals/ENCSR774YGM_CBX2_H1_bin200_flank400_stride200.json\n",
      "/oak/stanford/groups/akundaje/manyu/train_H1_GM/label_regions/H1/labeled_intervals/ENCSR925LJZ_H3K36me3_H1_bin200_flank400_stride200.json\n",
      "/oak/stanford/groups/akundaje/manyu/train_H1_GM/label_regions/H1/labeled_intervals/ENCSR850KIP_ASH2L_H1_bin200_flank400_stride200.json\n",
      "/oak/stanford/groups/akundaje/manyu/train_H1_GM/label_regions/H1/labeled_intervals/ENCSR883AQJ_H3K9me3_H1_bin200_flank400_stride200.json\n",
      "/oak/stanford/groups/akundaje/manyu/train_H1_GM/label_regions/H1/labeled_intervals/ENCSR000AQK_CHD1_H1_bin200_flank400_stride200.json\n",
      "/oak/stanford/groups/akundaje/manyu/train_H1_GM/label_regions/H1/labeled_intervals/ENCSR000AVB_HDAC2_H1_bin200_flank400_stride200.json\n",
      "/oak/stanford/groups/akundaje/manyu/train_H1_GM/label_regions/H1/labeled_intervals/ENCSR000EBS_MAFK_H1_bin200_flank400_stride200.json\n",
      "/oak/stanford/groups/akundaje/manyu/train_H1_GM/label_regions/H1/labeled_intervals/ENCSR000ECC_NRF1_H1_bin200_flank400_stride200.json\n",
      "/oak/stanford/groups/akundaje/manyu/train_H1_GM/label_regions/H1/labeled_intervals/ENCSR000DLJ_POLR2A_H1_bin200_flank400_stride200.json\n",
      "/oak/stanford/groups/akundaje/manyu/train_H1_GM/label_regions/H1/labeled_intervals/ENCSR000BJW_RXRA_H1_bin200_flank400_stride200.json\n",
      "/oak/stanford/groups/akundaje/manyu/train_H1_GM/label_regions/H1/labeled_intervals/ENCSR952GVX_H3K9ac_H1_bin200_flank400_stride200.json\n",
      "/oak/stanford/groups/akundaje/manyu/train_H1_GM/label_regions/H1/labeled_intervals/ENCSR000EBU_CHD1_H1_bin200_flank400_stride200.json\n",
      "/oak/stanford/groups/akundaje/manyu/train_H1_GM/label_regions/H1/labeled_intervals/ENCSR000BIU_USF1_H1_bin200_flank400_stride200.json\n",
      "/oak/stanford/groups/akundaje/manyu/train_H1_GM/label_regions/H1/labeled_intervals/ENCSR038PFD_H3K18ac_H1_bin200_flank400_stride200.json\n"
     ]
    }
   ],
   "source": [
    "file_list = []\n",
    "for file in glob.glob(path_to_labeled_intervals+'*.json'):\n",
    "    print(file)\n",
    "    file_list.append(file)"
   ]
  },
  {
   "cell_type": "code",
   "execution_count": 4,
   "metadata": {},
   "outputs": [
    {
     "ename": "SyntaxError",
     "evalue": "EOL while scanning string literal (<ipython-input-4-ed5c223ffee1>, line 1)",
     "output_type": "error",
     "traceback": [
      "\u001b[0;36m  File \u001b[0;32m\"<ipython-input-4-ed5c223ffee1>\"\u001b[0;36m, line \u001b[0;32m1\u001b[0m\n\u001b[0;31m    'python ~/software/tf-dragonn/tfdragonn/gf_keras/tfdragonn_main.py train datasetspec.json /oak/stanford/groups/akundaje/manyu/train_H1_GM/label_regions/H1/labeled_intervals/ENCSR000ECC_NRF1_H1_bin200_flank400_stride200.json /oak/stanford/groups/akundaje/manyu/train_H1_GM/modelspecs/model_spec_seq_reverse_comp.json./test_model_NRF1 --visiblegpus 0\u001b[0m\n\u001b[0m                                                                                                                                                                                                                                                                                                                                                                ^\u001b[0m\n\u001b[0;31mSyntaxError\u001b[0m\u001b[0;31m:\u001b[0m EOL while scanning string literal\n"
     ]
    }
   ],
   "source": [
    "'python ~/software/tf-dragonn/tfdragonn/gf_keras/tfdragonn_main.py train \\\n",
    "datasetspec.json /oak/stanford/groups/akundaje/manyu/train_H1_GM/label_regions/H1/\\\n",
    "labeled_intervals/ENCSR000ECC_NRF1_H1_bin200_flank400_stride200.json \\\n",
    "/oak/stanford/groups/akundaje/manyu/train_H1_GM/modelspecs/model_spec_seq_reverse_comp.json\\\n",
    "./test_model_NRF1 --visiblegpus 0\n",
    "'"
   ]
  },
  {
   "cell_type": "code",
   "execution_count": 5,
   "metadata": {},
   "outputs": [],
   "source": [
    "def get_tf_encode_name(file):\n",
    "    name = file.split('/')[-1]\n",
    "    encodeID  = name.split('_')[0]\n",
    "    tf = name.split('_')[1]\n",
    "    return encodeID,tf"
   ]
  },
  {
   "cell_type": "code",
   "execution_count": 6,
   "metadata": {},
   "outputs": [],
   "source": [
    "def train_command(datasetspec,file_to_labeled_intervals,modelspec,dir_to_write_to):\n",
    "    assert(os.path.exists(datasetspec))\n",
    "    assert(os.path.exists(file_to_labeled_intervals))\n",
    "    assert(os.path.exists(modelspec))\n",
    "    assert(os.path.exists(dir_to_write_to))\n",
    "    encode_id,tf = get_tf_encode_name(file_to_labeled_intervals)\n",
    "    model_type = modelspec.split('/')[-1]\n",
    "    model_type = '_'.join(model_type.strip('.json').split('_')[2:])\n",
    "    prefix = os.path.abspath(dir_to_write_to+'{}_{}_{}'.format(encode_id,tf,model_type))\n",
    "    command = 'python ~/software/tf-dragonn/tfdragonn/gf_keras/tfdragonn_main.py train\\\n",
    "    {} {} {} {} --visiblegpus 0'.format(datasetspec,file_to_labeled_intervals,modelspec,prefix)\n",
    "    return command\n",
    "    \n",
    "    \n",
    "    "
   ]
  },
  {
   "cell_type": "code",
   "execution_count": 7,
   "metadata": {},
   "outputs": [],
   "source": [
    "datasetspec = '/oak/stanford/groups/akundaje/manyu/train_all_models/hg38/train_H1_GM/\\\n",
    "train_models_H1/datasetspec_H1.json'\n",
    "modelspec_seq_only = '/oak/stanford/groups/akundaje/manyu/train_all_models/hg38/train_H1_GM/\\\n",
    "modelspecs/model_spec_seq_reverse_comp.json' \n",
    "modelspec_seq_meth = '/oak/stanford/groups/akundaje/manyu/train_all_models/hg38/train_H1_GM/\\\n",
    "modelspecs/model_spec_seq_meth_reverse_comp.json'\n",
    "path_to_trained_models = '/oak/stanford/groups/akundaje/manyu/train_all_models/hg38/train_H1_GM/\\\n",
    "train_models_H1/trained_models/'\n"
   ]
  },
  {
   "cell_type": "code",
   "execution_count": 8,
   "metadata": {},
   "outputs": [
    {
     "data": {
      "text/plain": [
       "'python ~/software/tf-dragonn/tfdragonn/gf_keras/tfdragonn_main.py train    /oak/stanford/groups/akundaje/manyu/train_all_models/hg38/train_H1_GM/train_models_H1/datasetspec_H1.json /oak/stanford/groups/akundaje/manyu/train_H1_GM/label_regions/H1/labeled_intervals/ENCSR000EBZ_JUND_H1_bin200_flank400_stride200.json /oak/stanford/groups/akundaje/manyu/train_all_models/hg38/train_H1_GM/modelspecs/model_spec_seq_reverse_comp.json /oak/stanford/groups/akundaje/manyu/train_all_models/hg38/train_H1_GM/train_models_H1/trained_models/ENCSR000EBZ_JUND_seq_reverse_comp --visiblegpus 0'"
      ]
     },
     "execution_count": 8,
     "metadata": {},
     "output_type": "execute_result"
    }
   ],
   "source": [
    "train_command(datasetspec,file_list[0],modelspec_seq_only,path_to_trained_models)"
   ]
  },
  {
   "cell_type": "code",
   "execution_count": 9,
   "metadata": {},
   "outputs": [],
   "source": [
    "train_scripts_file = './train_scripts/train_scripts_file_H1.txt'"
   ]
  },
  {
   "cell_type": "code",
   "execution_count": 11,
   "metadata": {},
   "outputs": [],
   "source": [
    "with open(train_scripts_file,'w') as f:\n",
    "    for file in file_list:\n",
    "        command_seq = train_command(datasetspec,file,modelspec_seq_only,path_to_trained_models)\n",
    "        command_seq_meth = train_command(datasetspec,file,modelspec_seq_meth,path_to_trained_models)\n",
    "        f.write(command_seq+'\\n')\n",
    "        f.write(command_seq_meth + '\\n')"
   ]
  },
  {
   "cell_type": "code",
   "execution_count": 15,
   "metadata": {},
   "outputs": [],
   "source": [
    "datasetspec_GM12878 = '/oak/stanford/groups/akundaje/manyu/train_all_models/hg38/train_H1_GM/train_models_GM/\\\n",
    "datasetspec_GM12878.json'\n",
    "path_to_trained_models_GM = '/oak/stanford/groups/akundaje/manyu/train_all_models/hg38/\\\n",
    "train_H1_GM/train_models_GM/trained_models/'\n",
    "train_scripts_file_GM = '/oak/stanford/groups/akundaje/manyu/train_all_models/hg38/train_H1_GM/\\\n",
    "train_models_GM/train_scripts/train_scripts_file_GM.txt'\n",
    "path_to_GM_labeled_intervals = '/oak/stanford/groups/akundaje/manyu/train_all_models/hg38/train_H1_GM/label_regions/GM12878/labeled_intervals/'"
   ]
  },
  {
   "cell_type": "code",
   "execution_count": 16,
   "metadata": {},
   "outputs": [],
   "source": [
    "with open(train_scripts_file_GM,'w') as f:\n",
    "    for file in glob.glob(path_to_GM_labeled_intervals+'*.json'):\n",
    "        command_seq = train_command(datasetspec_GM12878,file,modelspec_seq_only,path_to_trained_models_GM)\n",
    "        command_seq_meth = train_command(datasetspec_GM12878,file,modelspec_seq_meth,path_to_trained_models_GM)\n",
    "        f.write(command_seq+'\\n')\n",
    "        f.write(command_seq_meth + '\\n')\n",
    "        "
   ]
  },
  {
   "cell_type": "code",
   "execution_count": 17,
   "metadata": {},
   "outputs": [],
   "source": [
    "datasetspec_K562 = '/oak/stanford/groups/akundaje/manyu/train_all_models/hg38/train_K562/\\\n",
    "trained_models/datasetspec_K562.json'\n",
    "path_to_trained_models_K562 = '/oak/stanford/groups/akundaje/manyu/train_all_models/hg38/train_K562/\\\n",
    "trained_models/trained_models/'\n",
    "train_script_file_K562 = '/oak/stanford/groups/akundaje/manyu/train_all_models/hg38/train_K562/trained_models/\\\n",
    "train_scripts/train_scripts_file_K562.txt'\n",
    "path_to_K562_labeled_intervals = '/oak/stanford/groups/akundaje/manyu/train_all_models/hg38/\\\n",
    "train_K562/label_regions/labeled_intervals/'"
   ]
  },
  {
   "cell_type": "code",
   "execution_count": 19,
   "metadata": {},
   "outputs": [],
   "source": [
    "with open(train_script_file_K562,'w') as f:\n",
    "    for file in glob.glob(path_to_K562_labeled_intervals+'*.json'):\n",
    "        command_seq = train_command(datasetspec_K562,file,modelspec_seq_only,path_to_trained_models_K562)\n",
    "        command_seq_meth = train_command(datasetspec_K562,file,modelspec_seq_meth,path_to_trained_models_K562)\n",
    "        f.write(command_seq_meth + '\\n')\n",
    "        "
   ]
  },
  {
   "cell_type": "code",
   "execution_count": null,
   "metadata": {},
   "outputs": [],
   "source": []
  }
 ],
 "metadata": {
  "kernelspec": {
   "display_name": "Python 3",
   "language": "python",
   "name": "python3"
  },
  "language_info": {
   "codemirror_mode": {
    "name": "ipython",
    "version": 3
   },
   "file_extension": ".py",
   "mimetype": "text/x-python",
   "name": "python",
   "nbconvert_exporter": "python",
   "pygments_lexer": "ipython3",
   "version": "3.6.3"
  }
 },
 "nbformat": 4,
 "nbformat_minor": 2
}
