{
 "cells": [
  {
   "cell_type": "code",
   "execution_count": 5,
   "metadata": {
    "collapsed": true
   },
   "outputs": [],
   "source": [
    "import numpy as np\n",
    "import pyximport\n",
    "pyximport.install(pyimport = True)\n",
    "from processing import process_function\n",
    "import os\n",
    "import json\n",
    "path=os.getcwd()"
   ]
  },
  {
   "cell_type": "code",
   "execution_count": 23,
   "metadata": {
    "collapsed": false
   },
   "outputs": [],
   "source": [
    "def create_labels_from_regions_and_labels(processed_file_name):\n",
    "\tf=open(processed_file_name,'r')\n",
    "\tdata=[int(line.strip('\\n').split('\\t')[-1]) for line in f]\n",
    "\tdata=np.array(data).reshape((len(data),1))\n",
    "\tlabels_file_name=processed_file_name.strip('.bed')\n",
    "    \n",
    "\tnp.save(labels_file_name, data)\n",
    "\tprint(\"Created labels file at %s \"%(labels_file_name))\n",
    "\n",
    "def create_filtered_intervals_file(CpG_offend_list,filename,new_file_name):\n",
    "\ttry:\n",
    "\t\tos.system('bedtools intersect -v -a %s -b %s > %s'%(filename,CpG_offend_list,'./temp_intervals.bed'))\n",
    "\t\tos.system('shuf %s > %s'%('./temp_intervals.bed',new_file_name))\n",
    "\t\tos.system('rm %s'%('./temp_intervals.bed'))\n",
    "\t\tprint(\"Created shuffled and filtered intervals file at %s\" %new_file_name)\n",
    "\texcept Exception as e:\n",
    "\t\tprint(e)\n",
    "\t\t\n",
    "\n",
    "\n"
   ]
  },
  {
   "cell_type": "code",
   "execution_count": 29,
   "metadata": {
    "collapsed": false
   },
   "outputs": [],
   "source": [
    "def read_json_regions_labels_file(json_file):\n",
    "    with open(json_file,'r') as f:\n",
    "        json_dict=json.load(f)\n",
    "        try:\n",
    "            regions=json_dict['K562']['regions'].encode('utf-8')\n",
    "            labels=json_dict['K562']['labels'].encode('utf-8')\n",
    "        except:\n",
    "            regions=json_dict['K562']['regions']\n",
    "            labels=json_dict['K562']['labels']\n",
    "    return regions,labels\n",
    "\n",
    "\n"
   ]
  },
  {
   "cell_type": "code",
   "execution_count": 7,
   "metadata": {
    "collapsed": true
   },
   "outputs": [],
   "source": [
    "##Provide the complete path to the regions and labels file\n",
    "def create_json_file_regions_labels(regions,labels):\n",
    "    path=os.getcwd()\n",
    "    task_name=regions.split('/')[-1].split('_')[0]\n",
    "    dict_return={}\n",
    "    dict_return[\"K562\"]={\"regions\":regions,\"labels\":labels}\n",
    "    dict_return[\"task_names\"]=[task_name]\n",
    "    json_file_name='%s'%(regions.strip('.bed')+'.json')\n",
    "    with open(json_file_name,'w') as f:\n",
    "        json.dump(dict_return,f)\n",
    "    print(\"Created JSON file for regions, labels at %s\" %(json_file_name))\n",
    "    \n",
    "    "
   ]
  },
  {
   "cell_type": "code",
   "execution_count": 30,
   "metadata": {
    "collapsed": true
   },
   "outputs": [],
   "source": [
    "def run_filtering_pipeline(regions_json_file,CpG_offend_list):\n",
    "    path=os.getcwd()\n",
    "    regions,labels=read_json_regions_labels_file(regions_json_file)\n",
    "    #print type(regions)\n",
    "    TF_name_id='_'.join(regions.split('/')[-1].split('_')[0:2])\n",
    "    print(\"Processing the TF: %s \\n\"%(TF_name_id))\n",
    "    TF_name=TF_name_id.split('_')[0]\n",
    "    unfiltered_file_name='%s/%s'%(path,'temp_regions_labels.bed')\n",
    "    process_function(regions,labels,unfiltered_file_name)\n",
    "    filtered_shuf_file='%s/%s_filter_shuf_regions_labels.bed'%(path,TF_name_id)\n",
    "    ##Create filtered and shuffled intervals file\n",
    "    create_filtered_intervals_file(CpG_offend_list, unfiltered_file_name, filtered_shuf_file)\n",
    "    os.system('rm %s'%(unfiltered_file_name))\n",
    "    ##Create np labels file from it\n",
    "    create_labels_from_regions_and_labels(filtered_shuf_file)\n",
    "    ##Create JSON file with shuffled regions and labels\n",
    "    create_json_file_regions_labels(filtered_shuf_file,filtered_shuf_file.strip('.bed')+'.npy')\n",
    "    \n",
    "    \n",
    "      "
   ]
  },
  {
   "cell_type": "code",
   "execution_count": 31,
   "metadata": {
    "collapsed": false
   },
   "outputs": [
    {
     "name": "stdout",
     "output_type": "stream",
     "text": [
      "Processing the TF: MYC_ENCSR000EGJ \n",
      "\n"
     ]
    },
    {
     "ename": "KeyboardInterrupt",
     "evalue": "",
     "output_type": "error",
     "traceback": [
      "\u001b[0;31m---------------------------------------------------------------------------\u001b[0m",
      "\u001b[0;31mKeyboardInterrupt\u001b[0m                         Traceback (most recent call last)",
      "\u001b[0;32m<ipython-input-31-c7a99e38c1f4>\u001b[0m in \u001b[0;36m<module>\u001b[0;34m()\u001b[0m\n\u001b[1;32m      4\u001b[0m     \u001b[0;32mfor\u001b[0m \u001b[0mfile_\u001b[0m \u001b[0;32min\u001b[0m \u001b[0mglob\u001b[0m\u001b[0;34m.\u001b[0m\u001b[0mglob\u001b[0m\u001b[0;34m(\u001b[0m\u001b[0;34m'/srv/scratch/manyu/NIPS_workshop_tests/train_models/label_regions/*stride200.json'\u001b[0m\u001b[0;34m)\u001b[0m\u001b[0;34m:\u001b[0m\u001b[0;34m\u001b[0m\u001b[0m\n\u001b[1;32m      5\u001b[0m         \u001b[0mpath_to_json\u001b[0m\u001b[0;34m=\u001b[0m\u001b[0mfile_\u001b[0m\u001b[0;34m\u001b[0m\u001b[0m\n\u001b[0;32m----> 6\u001b[0;31m         \u001b[0mrun_filtering_pipeline\u001b[0m\u001b[0;34m(\u001b[0m\u001b[0mpath_to_json\u001b[0m\u001b[0;34m,\u001b[0m\u001b[0mCpG_offend_list\u001b[0m\u001b[0;34m)\u001b[0m\u001b[0;34m\u001b[0m\u001b[0m\n\u001b[0m\u001b[1;32m      7\u001b[0m \u001b[0;34m\u001b[0m\u001b[0m\n\u001b[1;32m      8\u001b[0m \u001b[0;34m\u001b[0m\u001b[0m\n",
      "\u001b[0;32m<ipython-input-30-f57ab5a3463c>\u001b[0m in \u001b[0;36mrun_filtering_pipeline\u001b[0;34m(regions_json_file, CpG_offend_list)\u001b[0m\n\u001b[1;32m      7\u001b[0m     \u001b[0mTF_name\u001b[0m\u001b[0;34m=\u001b[0m\u001b[0mTF_name_id\u001b[0m\u001b[0;34m.\u001b[0m\u001b[0msplit\u001b[0m\u001b[0;34m(\u001b[0m\u001b[0;34m'_'\u001b[0m\u001b[0;34m)\u001b[0m\u001b[0;34m[\u001b[0m\u001b[0;36m0\u001b[0m\u001b[0;34m]\u001b[0m\u001b[0;34m\u001b[0m\u001b[0m\n\u001b[1;32m      8\u001b[0m     \u001b[0munfiltered_file_name\u001b[0m\u001b[0;34m=\u001b[0m\u001b[0;34m'%s/%s'\u001b[0m\u001b[0;34m%\u001b[0m\u001b[0;34m(\u001b[0m\u001b[0mpath\u001b[0m\u001b[0;34m,\u001b[0m\u001b[0;34m'temp_regions_labels.bed'\u001b[0m\u001b[0;34m)\u001b[0m\u001b[0;34m\u001b[0m\u001b[0m\n\u001b[0;32m----> 9\u001b[0;31m     \u001b[0mprocess_function\u001b[0m\u001b[0;34m(\u001b[0m\u001b[0mregions\u001b[0m\u001b[0;34m,\u001b[0m\u001b[0mlabels\u001b[0m\u001b[0;34m,\u001b[0m\u001b[0munfiltered_file_name\u001b[0m\u001b[0;34m)\u001b[0m\u001b[0;34m\u001b[0m\u001b[0m\n\u001b[0m\u001b[1;32m     10\u001b[0m     \u001b[0mfiltered_shuf_file\u001b[0m\u001b[0;34m=\u001b[0m\u001b[0;34m'%s/%s_filter_shuf_regions_labels.bed'\u001b[0m\u001b[0;34m%\u001b[0m\u001b[0;34m(\u001b[0m\u001b[0mpath\u001b[0m\u001b[0;34m,\u001b[0m\u001b[0mTF_name_id\u001b[0m\u001b[0;34m)\u001b[0m\u001b[0;34m\u001b[0m\u001b[0m\n\u001b[1;32m     11\u001b[0m     \u001b[0;31m##Create filtered and shuffled intervals file\u001b[0m\u001b[0;34m\u001b[0m\u001b[0;34m\u001b[0m\u001b[0m\n",
      "\u001b[0;31mKeyboardInterrupt\u001b[0m: "
     ]
    }
   ],
   "source": [
    "if __name__=='__main__':\n",
    "    import glob\n",
    "    CpG_offend_list='./offending_CpGs_10reads.bed'\n",
    "    for file_ in glob.glob('/srv/scratch/manyu/NIPS_workshop_tests/train_models/label_regions/*stride200.json'):\n",
    "        path_to_json=file_\n",
    "        run_filtering_pipeline(path_to_json,CpG_offend_list)\n",
    "        \n",
    "        "
   ]
  },
  {
   "cell_type": "code",
   "execution_count": 32,
   "metadata": {
    "collapsed": false
   },
   "outputs": [
    {
     "name": "stdout",
     "output_type": "stream",
     "text": [
      "[NbConvertApp] Converting notebook process.ipynb to python\n",
      "[NbConvertApp] Writing 3218 bytes to process.py\n"
     ]
    }
   ],
   "source": [
    "!jupyter nbconvert --to python process.ipynb"
   ]
  },
  {
   "cell_type": "code",
   "execution_count": 39,
   "metadata": {
    "collapsed": false
   },
   "outputs": [],
   "source": [
    "path_to_json='/srv/scratch/manyu/NIPS_workshop_tests/train_models/label_regions/zbtb33/ZBTB33_bin200_flank400_stride200.json'\n",
    "regions,labels=read_json_regions_labels_file(path_to_json)"
   ]
  },
  {
   "cell_type": "code",
   "execution_count": 44,
   "metadata": {
    "collapsed": false
   },
   "outputs": [],
   "source": [
    "process_function(regions,labels,'zbtb33_temp.bed')"
   ]
  },
  {
   "cell_type": "code",
   "execution_count": 53,
   "metadata": {
    "collapsed": false
   },
   "outputs": [
    {
     "name": "stdout",
     "output_type": "stream",
     "text": [
      "Created shuffled and filtered intervals file at zbtb33_filter_shuf_regions_labels.bed\n"
     ]
    }
   ],
   "source": [
    "create_filtered_intervals_file(CpG_offend_list,'zbtb33_temp.bed','zbtb33_filter_shuf_regions_labels.bed')\n"
   ]
  },
  {
   "cell_type": "code",
   "execution_count": 52,
   "metadata": {
    "collapsed": false
   },
   "outputs": [
    {
     "data": {
      "text/plain": [
       "0.005665378467515124"
      ]
     },
     "execution_count": 52,
     "metadata": {},
     "output_type": "execute_result"
    }
   ],
   "source": [
    "3920/691922.0"
   ]
  },
  {
   "cell_type": "code",
   "execution_count": 67,
   "metadata": {
    "collapsed": false
   },
   "outputs": [
    {
     "name": "stdout",
     "output_type": "stream",
     "text": [
      "10517\n",
      "2419426\n"
     ]
    }
   ],
   "source": [
    "!cat zbtb33_filter_shuf_regions_labels.bed|grep chr1|cut -f 4|grep 1|wc -l\n",
    "!cat zbtb33_filter_shuf_regions_labels.bed|grep chr1|wc -l"
   ]
  },
  {
   "cell_type": "code",
   "execution_count": 58,
   "metadata": {
    "collapsed": false
   },
   "outputs": [
    {
     "data": {
      "text/plain": [
       "0.002393934359377124"
      ]
     },
     "execution_count": 58,
     "metadata": {},
     "output_type": "execute_result"
    }
   ],
   "source": [
    "634.0/264836"
   ]
  },
  {
   "cell_type": "code",
   "execution_count": 61,
   "metadata": {
    "collapsed": false
   },
   "outputs": [
    {
     "data": {
      "text/plain": [
       "0.0038287471481135344"
      ]
     },
     "execution_count": 61,
     "metadata": {},
     "output_type": "execute_result"
    }
   ],
   "source": [
    "23110.0/6035917"
   ]
  },
  {
   "cell_type": "code",
   "execution_count": 64,
   "metadata": {
    "collapsed": false
   },
   "outputs": [
    {
     "data": {
      "text/plain": [
       "0.002989150621354209"
      ]
     },
     "execution_count": 64,
     "metadata": {},
     "output_type": "execute_result"
    }
   ],
   "source": [
    "845.0/282689"
   ]
  },
  {
   "cell_type": "code",
   "execution_count": 68,
   "metadata": {
    "collapsed": false
   },
   "outputs": [
    {
     "data": {
      "text/plain": [
       "0.004346898809883005"
      ]
     },
     "execution_count": 68,
     "metadata": {},
     "output_type": "execute_result"
    }
   ],
   "source": [
    "10517.0/2419426"
   ]
  },
  {
   "cell_type": "code",
   "execution_count": 69,
   "metadata": {
    "collapsed": false
   },
   "outputs": [
    {
     "name": "stdout",
     "output_type": "stream",
     "text": [
      "Created labels file at zbtb33_filter_shuf_regions_labels \n"
     ]
    }
   ],
   "source": [
    "create_labels_from_regions_and_labels('zbtb33_filter_shuf_regions_labels.bed')"
   ]
  },
  {
   "cell_type": "code",
   "execution_count": 70,
   "metadata": {
    "collapsed": false
   },
   "outputs": [
    {
     "name": "stdout",
     "output_type": "stream",
     "text": [
      "Created JSON file for regions, labels at zbtb33_filter_shuf_regions_labels.json\n"
     ]
    }
   ],
   "source": [
    "create_json_file_regions_labels('zbtb33_filter_shuf_regions_labels.bed','zbtb33_filter_shuf_regions_labels.npy')"
   ]
  },
  {
   "cell_type": "code",
   "execution_count": 71,
   "metadata": {
    "collapsed": false
   },
   "outputs": [
    {
     "name": "stdout",
     "output_type": "stream",
     "text": [
      "CEBPB_ENCSR000EHE_filter_shuf_regions_labels.bed\r\n",
      "CEBPB_ENCSR000EHE_filter_shuf_regions_labels.json\r\n",
      "CEBPB_ENCSR000EHE_filter_shuf_regions_labels.npy\r\n",
      "CEBPB_ENCSR416QLJ_filter_shuf_regions_labels.bed\r\n",
      "CEBPB_ENCSR416QLJ_filter_shuf_regions_labels.json\r\n",
      "CEBPB_ENCSR416QLJ_filter_shuf_regions_labels.npy\r\n",
      "MYC_ENCSR000EGJ_filter_shuf_regions_labels.bed\r\n",
      "MYC_ENCSR000EGJ_filter_shuf_regions_labels.json\r\n",
      "MYC_ENCSR000EGJ_filter_shuf_regions_labels.npy\r\n",
      "offending_CpGs_10reads.bed\r\n",
      "POLR2G_ENCSR283ZRI_filter_shuf_regions_labels.bed\r\n",
      "POLR2G_ENCSR283ZRI_filter_shuf_regions_labels.json\r\n",
      "POLR2G_ENCSR283ZRI_filter_shuf_regions_labels.npy\r\n",
      "processing.pyx\r\n",
      "process.ipynb\r\n",
      "process.py\r\n",
      "stats\r\n",
      "temp.bed\r\n",
      "test_intervals.bed\r\n",
      "THRAP3_ENCSR871TKJ_filter_shuf_regions_labels.bed\r\n",
      "THRAP3_ENCSR871TKJ_filter_shuf_regions_labels.json\r\n",
      "THRAP3_ENCSR871TKJ_filter_shuf_regions_labels.npy\r\n",
      "ZBTB33_bin200_filter_shuf_regions_labels.bed\r\n",
      "ZBTB33_bin200_filter_shuf_regions_labels.json\r\n",
      "ZBTB33_bin200_filter_shuf_regions_labels.npy\r\n",
      "zbtb33_filter_shuf_regions_labels.bed\r\n",
      "zbtb33_filter_shuf_regions_labels.json\r\n",
      "zbtb33_filter_shuf_regions_labels.npy\r\n",
      "zbtb33_temp.bed\r\n",
      "ZMYM3_ENCSR102KIN_filter_shuf_regions_labels.bed\r\n",
      "ZMYM3_ENCSR102KIN_filter_shuf_regions_labels.json\r\n",
      "ZMYM3_ENCSR102KIN_filter_shuf_regions_labels.npy\r\n",
      "ZNF280A_ENCSR370NFS_filter_shuf_regions_labels.bed\r\n",
      "ZNF280A_ENCSR370NFS_filter_shuf_regions_labels.json\r\n",
      "ZNF280A_ENCSR370NFS_filter_shuf_regions_labels.npy\r\n",
      "ZNF316_ENCSR167KBO_filter_shuf_regions_labels.bed\r\n",
      "ZNF316_ENCSR167KBO_filter_shuf_regions_labels.json\r\n",
      "ZNF316_ENCSR167KBO_filter_shuf_regions_labels.npy\r\n",
      "ZNF507_ENCSR598TIR_filter_shuf_regions_labels.bed\r\n",
      "ZNF507_ENCSR598TIR_filter_shuf_regions_labels.json\r\n",
      "ZNF507_ENCSR598TIR_filter_shuf_regions_labels.npy\r\n",
      "ZNF512_ENCSR591CCL_filter_shuf_regions_labels.bed\r\n",
      "ZNF512_ENCSR591CCL_filter_shuf_regions_labels.json\r\n",
      "ZNF512_ENCSR591CCL_filter_shuf_regions_labels.npy\r\n"
     ]
    }
   ],
   "source": [
    "!ls"
   ]
  },
  {
   "cell_type": "code",
   "execution_count": 75,
   "metadata": {
    "collapsed": false
   },
   "outputs": [
    {
     "name": "stdout",
     "output_type": "stream",
     "text": [
      "manyu@kali's password: \n"
     ]
    }
   ],
   "source": []
  },
  {
   "cell_type": "code",
   "execution_count": 76,
   "metadata": {
    "collapsed": false
   },
   "outputs": [
    {
     "name": "stdout",
     "output_type": "stream",
     "text": [
      "/bin/sh: 1: choedankalcallandor: not found\r\n"
     ]
    }
   ],
   "source": []
  },
  {
   "cell_type": "code",
   "execution_count": null,
   "metadata": {
    "collapsed": true
   },
   "outputs": [],
   "source": []
  }
 ],
 "metadata": {
  "anaconda-cloud": {},
  "kernelspec": {
   "display_name": "Python [conda env:dragonn]",
   "language": "python",
   "name": "conda-env-dragonn-py"
  },
  "language_info": {
   "codemirror_mode": {
    "name": "ipython",
    "version": 2
   },
   "file_extension": ".py",
   "mimetype": "text/x-python",
   "name": "python",
   "nbconvert_exporter": "python",
   "pygments_lexer": "ipython2",
   "version": "2.7.12"
  }
 },
 "nbformat": 4,
 "nbformat_minor": 1
}
