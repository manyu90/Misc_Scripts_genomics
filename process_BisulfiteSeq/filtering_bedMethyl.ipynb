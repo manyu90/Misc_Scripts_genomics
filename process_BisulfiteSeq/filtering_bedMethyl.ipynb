{
 "cells": [
  {
   "cell_type": "code",
   "execution_count": 5,
   "metadata": {
    "collapsed": false
   },
   "outputs": [],
   "source": [
    "import gzip\n",
    "def process_data_10_reads(inputfile,outfile):\n",
    "    g=open(outfile,'wb')\n",
    "    with gzip.open(inputfile,'rb') as f:\n",
    "        for line in f:\n",
    "            line=line.split('\\t')\n",
    "            if (int(line[9]))>=10:\n",
    "                g.write('\\t'.join(line))\n",
    "    g.close()\n",
    "    print(\"Wrote to file %s\"%(outfile))\n",
    "    return\n"
   ]
  },
  {
   "cell_type": "code",
   "execution_count": 13,
   "metadata": {
    "collapsed": false
   },
   "outputs": [
    {
     "name": "stdout",
     "output_type": "stream",
     "text": [
      "Wrote to file /srv/scratch/manyu/Methylation_data/K562/MethCpG_rep1_filtered.bedMethyl\n"
     ]
    }
   ],
   "source": [
    "input_file='/srv/scratch/manyu/Methylation_data/K562/MethCpG_rep1.bedMethyl.gz'\n",
    "output_file='/srv/scratch/manyu/Methylation_data/K562/MethCpG_rep1_filtered.bedMethyl'\n",
    "process_data_10_reads(input_file,output_file)"
   ]
  },
  {
   "cell_type": "code",
   "execution_count": 10,
   "metadata": {
    "collapsed": false
   },
   "outputs": [
    {
     "name": "stdout",
     "output_type": "stream",
     "text": [
      "73\n"
     ]
    }
   ],
   "source": [
    "with gzip.open(input_file) as f:\n",
    "    line=f.readline()\n",
    "line=line.split('\\t')\n",
    "print(int(line[9]) )   "
   ]
  },
  {
   "cell_type": "code",
   "execution_count": 12,
   "metadata": {
    "collapsed": false
   },
   "outputs": [
    {
     "data": {
      "text/plain": [
       "'chr13\\t16000422\\t16000423\\t.\\t73\\t+\\t16000422\\t16000423\\t0,255,0\\t73\\t0\\n'"
      ]
     },
     "execution_count": 12,
     "metadata": {},
     "output_type": "execute_result"
    }
   ],
   "source": [
    "'\\t'.join(line)"
   ]
  },
  {
   "cell_type": "code",
   "execution_count": 18,
   "metadata": {
    "collapsed": false
   },
   "outputs": [
    {
     "data": {
      "text/plain": [
       "7.2"
      ]
     },
     "execution_count": 18,
     "metadata": {},
     "output_type": "execute_result"
    }
   ],
   "source": [
    "27*(40.0/150)"
   ]
  },
  {
   "cell_type": "code",
   "execution_count": null,
   "metadata": {
    "collapsed": true
   },
   "outputs": [],
   "source": []
  }
 ],
 "metadata": {
  "anaconda-cloud": {},
  "kernelspec": {
   "display_name": "Python [conda env:dragonn]",
   "language": "python",
   "name": "conda-env-dragonn-py"
  },
  "language_info": {
   "codemirror_mode": {
    "name": "ipython",
    "version": 2
   },
   "file_extension": ".py",
   "mimetype": "text/x-python",
   "name": "python",
   "nbconvert_exporter": "python",
   "pygments_lexer": "ipython2",
   "version": "2.7.12"
  }
 },
 "nbformat": 4,
 "nbformat_minor": 1
}
